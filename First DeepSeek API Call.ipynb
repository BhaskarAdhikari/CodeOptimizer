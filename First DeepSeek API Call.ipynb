{
 "cells": [
  {
   "cell_type": "code",
   "execution_count": 2,
   "metadata": {},
   "outputs": [],
   "source": [
    "# %pip install openai"
   ]
  },
  {
   "cell_type": "code",
   "execution_count": 3,
   "metadata": {},
   "outputs": [
    {
     "name": "stdout",
     "output_type": "stream",
     "text": [
      "Hello! How can I assist you today? 😊\n"
     ]
    }
   ],
   "source": [
    "import os\n",
    "from openai import OpenAI\n",
    "\n",
    "# Get API key from environment variable\n",
    "api_key = os.getenv('DEEPSEEK_API_KEY')\n",
    "\n",
    "# Initializing client with API key and base URL\n",
    "client = OpenAI(\n",
    "    api_key=api_key,\n",
    "    base_url=\"https://api.deepseek.com/v1\"  # Base URL with version\n",
    ")\n",
    "\n",
    "response = client.chat.completions.create(\n",
    "    model=\"deepseek-chat\",\n",
    "    messages=[\n",
    "        {\"role\": \"system\", \"content\": \"You are a helpful assistant\"},\n",
    "        {\"role\": \"user\", \"content\": \"Hello\"},\n",
    "    ],\n",
    "    stream=False\n",
    ")\n",
    "\n",
    "print(response.choices[0].message.content)"
   ]
  },
  {
   "cell_type": "code",
   "execution_count": null,
   "metadata": {},
   "outputs": [
    {
     "name": "stdout",
     "output_type": "stream",
     "text": [
      "DeepSeek Chatbot - Type 'exit' to end the chat.\n",
      "Bot: Sure! Please provide the code you'd like me to fix, and let me know what issues or errors you're encountering. I'll do my best to help!\n",
      "\n",
      "Bot: The code has a few issues that need to be fixed:\n",
      "\n",
      "1. The condition `if n + i == 0` is incorrect. It should check if `n` is divisible by `i` (i.e., `n % i == 0`).\n",
      "2. The function should return a boolean (`True` or `False`) instead of a string for better usability.\n",
      "3. The function should handle the case where `n` is 1, which is not a prime number.\n",
      "\n",
      "Here’s the corrected code:\n",
      "\n",
      "```python\n",
      "# Check if a number (int) is prime\n",
      "def is_prime(n):\n",
      "    if n <= 1:  # 1 and numbers less than or equal to 1 are not prime\n",
      "        return False\n",
      "    for i in range(2, int(n**0.5) + 1):  # Check divisors up to the square root of n\n",
      "        if n % i == 0:  # If n is divisible\n",
      "\n"
     ]
    }
   ],
   "source": [
    "import os\n",
    "from openai import OpenAI\n",
    "\n",
    "# Retrieving the DeepSeek API key from environment variables\n",
    "api_key = os.getenv('DEEPSEEK_API_KEY')\n",
    "\n",
    "# Initializing the OpenAI client with DeepSeek's base URL\n",
    "client = OpenAI(\n",
    "    api_key=api_key,\n",
    "    base_url=\"https://api.deepseek.com/v1\"\n",
    ")\n",
    "\n",
    "# Conversation history to maintain chat context\n",
    "conversation_history = [\n",
    "    {\"role\": \"system\", \"content\": \"You are a helpful assistant.\"}\n",
    "]\n",
    "\n",
    "def stream_chat_response(user_input, model=\"deepseek-chat\"):\n",
    "    try:\n",
    "        # Adding user message to conversation history\n",
    "        conversation_history.append({\"role\": \"user\", \"content\": user_input})\n",
    "\n",
    "        # Creating a streaming response request\n",
    "        response_stream = client.chat.completions.create(\n",
    "            model=model,\n",
    "            messages=conversation_history,\n",
    "            stream=True,  # Enable streaming mode\n",
    "            max_tokens=200,\n",
    "            temperature=0.9  # Controls the creativity level (0 to 1)\n",
    "        )\n",
    "\n",
    "        bot_response = \"\"\n",
    "\n",
    "        print(\"Bot:\", end=\" \", flush=True)\n",
    "\n",
    "        # Iterating over the streaming response chunks\n",
    "        for chunk in response_stream:\n",
    "            if chunk.choices[0].delta.content:\n",
    "                bot_response += chunk.choices[0].delta.content\n",
    "                print(chunk.choices[0].delta.content, end='', flush=True)\n",
    "\n",
    "        print(\"\\n\")\n",
    "\n",
    "        # Adding assistant response to conversation history\n",
    "        conversation_history.append({\"role\": \"assistant\", \"content\": bot_response.strip()})\n",
    "\n",
    "        return bot_response.strip()\n",
    "\n",
    "    except Exception as e:\n",
    "        print(f\"Error: {e}\")\n",
    "        return None\n",
    "\n",
    "# Interactive chat loop\n",
    "if __name__ == \"__main__\":\n",
    "    print(\"DeepSeek Chatbot - Type 'exit' to end the chat.\")\n",
    "    while True:\n",
    "        user_input = input(\"You: \")\n",
    "        if user_input.lower() == \"exit\":\n",
    "            print(\"Goodbye!\")\n",
    "            break\n",
    "        stream_chat_response(user_input)\n"
   ]
  }
 ],
 "metadata": {
  "kernelspec": {
   "display_name": "base",
   "language": "python",
   "name": "python3"
  },
  "language_info": {
   "codemirror_mode": {
    "name": "ipython",
    "version": 3
   },
   "file_extension": ".py",
   "mimetype": "text/x-python",
   "name": "python",
   "nbconvert_exporter": "python",
   "pygments_lexer": "ipython3",
   "version": "3.12.7"
  }
 },
 "nbformat": 4,
 "nbformat_minor": 2
}
