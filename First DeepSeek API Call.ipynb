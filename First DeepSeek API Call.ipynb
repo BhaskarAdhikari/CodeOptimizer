{
 "cells": [
  {
   "cell_type": "code",
   "execution_count": 6,
   "metadata": {},
   "outputs": [],
   "source": [
    "# %pip install openai"
   ]
  },
  {
   "cell_type": "code",
   "execution_count": 7,
   "metadata": {},
   "outputs": [
    {
     "name": "stdout",
     "output_type": "stream",
     "text": [
      "Hello! How can I assist you today? 😊\n"
     ]
    }
   ],
   "source": [
    "import os\n",
    "from openai import OpenAI\n",
    "\n",
    "# Get API key from environment variable\n",
    "api_key = os.getenv('DEEPSEEK_API_KEY')\n",
    "\n",
    "# Initializing client with API key and base URL\n",
    "client = OpenAI(\n",
    "    api_key=api_key,\n",
    "    base_url=\"https://api.deepseek.com/v1\"  # Base URL with version\n",
    ")\n",
    "\n",
    "response = client.chat.completions.create(\n",
    "    model=\"deepseek-chat\",\n",
    "    messages=[\n",
    "        {\"role\": \"system\", \"content\": \"You are a helpful assistant\"},\n",
    "        {\"role\": \"user\", \"content\": \"Hello\"},\n",
    "    ],\n",
    "    stream=False\n",
    ")\n",
    "\n",
    "print(response.choices[0].message.content)"
   ]
  },
  {
   "cell_type": "code",
   "execution_count": null,
   "metadata": {},
   "outputs": [
    {
     "name": "stdout",
     "output_type": "stream",
     "text": [
      "DeepSeek Chatbot - Type 'exit' to end the chat.\n",
      "Bot: The code you provided has a few issues that need to be fixed:\n",
      "\n",
      "1. The condition `if n + i == 0:` is incorrect. It should be `if n % i == 0:` to check if `n` is divisible by `i`.\n",
      "2. The function should return a boolean value (`True` or `False`) instead of a string, as it is more conventional for a function that checks a condition.\n",
      "3. The function should handle the case where `n` is 1, which is not a prime number.\n",
      "\n",
      "Here is the corrected code:\n",
      "\n",
      "```python\n",
      "# Check if a number (int) is prime\n",
      "def is_prime(n):\n",
      "    if n <= 1:\n",
      "        return False\n",
      "    for i in range(2, int(n**0.5) + 1):\n",
      "        if n % i == 0:\n",
      "            return False\n",
      "    return True\n",
      "\n",
      "# Function call to validate\n",
      "for i in range(1, 30):\n",
      "   \n",
      "\n",
      "Goodbye!\n"
     ]
    }
   ],
   "source": [
    "import os\n",
    "from openai import OpenAI\n",
    "\n",
    "# Retrieving the DeepSeek API key from environment variables\n",
    "api_key = os.getenv('DEEPSEEK_API_KEY')\n",
    "\n",
    "# Initializing the OpenAI client with DeepSeek's base URL\n",
    "client = OpenAI(\n",
    "    api_key=api_key,\n",
    "    base_url=\"https://api.deepseek.com/v1\"\n",
    ")\n",
    "\n",
    "# Conversation history to maintain chat context\n",
    "conversation_history = [\n",
    "    {\"role\": \"system\", \"content\": \"You are a helpful assistant.\"}\n",
    "]\n",
    "\n",
    "def stream_chat_response(user_input, model=\"deepseek-chat\"):\n",
    "    try:\n",
    "        # Adding user message to conversation history\n",
    "        conversation_history.append({\"role\": \"user\", \"content\": user_input})\n",
    "\n",
    "        # Creating a streaming response request\n",
    "        response_stream = client.chat.completions.create(\n",
    "            model=model,\n",
    "            messages=conversation_history,\n",
    "            stream=True,  # Enable streaming mode\n",
    "            max_tokens=200,\n",
    "            temperature=0.9  # Controls the creativity level (0 to 1)\n",
    "        )\n",
    "\n",
    "        bot_response = \"\"\n",
    "\n",
    "        print(\"Bot:\", end=\" \", flush=True)\n",
    "\n",
    "        # Iterating over the streaming response chunks\n",
    "        for chunk in response_stream:\n",
    "            if chunk.choices[0].delta.content:\n",
    "                bot_response += chunk.choices[0].delta.content\n",
    "                print(chunk.choices[0].delta.content, end='', flush=True)\n",
    "\n",
    "        print(\"\\n\")\n",
    "\n",
    "        # Adding assistant response to conversation history\n",
    "        conversation_history.append({\"role\": \"assistant\", \"content\": bot_response.strip()})\n",
    "\n",
    "        return bot_response.strip()\n",
    "\n",
    "    except Exception as e:\n",
    "        print(f\"Error: {e}\")\n",
    "        return None\n",
    "\n",
    "# Interactive chat loop\n",
    "if __name__ == \"__main__\":\n",
    "    print(\"DeepSeek Chatbot - Type 'exit' to end the chat.\")\n",
    "    while True:\n",
    "        user_input = input(\"You: \")\n",
    "        if user_input.lower() == \"exit\":\n",
    "            print(\"Goodbye!\")\n",
    "            break\n",
    "        stream_chat_response(user_input)\n"
   ]
  }
 ],
 "metadata": {
  "kernelspec": {
   "display_name": "base",
   "language": "python",
   "name": "python3"
  },
  "language_info": {
   "codemirror_mode": {
    "name": "ipython",
    "version": 3
   },
   "file_extension": ".py",
   "mimetype": "text/x-python",
   "name": "python",
   "nbconvert_exporter": "python",
   "pygments_lexer": "ipython3",
   "version": "3.12.7"
  }
 },
 "nbformat": 4,
 "nbformat_minor": 2
}
